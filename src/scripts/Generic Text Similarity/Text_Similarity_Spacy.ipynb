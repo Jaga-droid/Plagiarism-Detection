{
 "cells": [
  {
   "cell_type": "code",
   "execution_count": 19,
   "metadata": {},
   "outputs": [
    {
     "name": "stdout",
     "output_type": "stream",
     "text": [
      "The style similarity score is 53.57142857142857%\n"
     ]
    }
   ],
   "source": [
    "import spacy\n",
    "from collections import Counter\n",
    "\n",
    "nlp = spacy.load('en_core_web_lg')\n",
    "\n",
    "def style_similarity(text1, text2):\n",
    "    doc1 = nlp(text1)\n",
    "    doc2 = nlp(text2)\n",
    "\n",
    "    # POS tag proportions\n",
    "    pos_counts1 = doc1.count_by(spacy.attrs.POS)\n",
    "    pos_counts2 = doc2.count_by(spacy.attrs.POS)\n",
    "\n",
    "    pos_proportions1 = {doc1.vocab[pos_id].text: count/len(doc1) for pos_id, count in pos_counts1.items()}\n",
    "    pos_proportions2 = {doc2.vocab[pos_id].text: count/len(doc2) for pos_id, count in pos_counts2.items()}\n",
    "\n",
    "    intersecting_pos = set(pos_proportions1.keys()) & set(pos_proportions2.keys())\n",
    "    \n",
    "    pos_similarity_score = sum(min(pos_proportions1[pos], pos_proportions2[pos]) for pos in intersecting_pos) / max(sum(pos_proportions1.values()), sum(pos_proportions2.values()))\n",
    "\n",
    "    # Punctuation usage\n",
    "    punct_counts1 = Counter(token.text for token in doc1 if token.is_punct)\n",
    "    punct_counts2 = Counter(token.text for token in doc2 if token.is_punct)\n",
    "\n",
    "    intersecting_punct = set(punct_counts1.keys()) & set(punct_counts2.keys())\n",
    "    \n",
    "    punct_similarity_score = sum(min(punct_counts1[punct], punct_counts2[punct]) for punct in intersecting_punct) / max(sum(punct_counts1.values()), sum(punct_counts2.values()))\n",
    "\n",
    "    # Average sentence length\n",
    "    avg_sent_len1 = sum(len(sent) for sent in doc1.sents) / len(list(doc1.sents))\n",
    "    avg_sent_len2 = sum(len(sent) for sent in doc2.sents) / len(list(doc2.sents))\n",
    "\n",
    "    sent_len_similarity_score = min(avg_sent_len1, avg_sent_len2) / max(avg_sent_len1, avg_sent_len2)\n",
    "\n",
    "    # Use of stop words\n",
    "    stop_counts1 = Counter(token.text for token in doc1 if token.is_stop)\n",
    "    stop_counts2 = Counter(token.text for token in doc2 if token.is_stop)\n",
    "\n",
    "    intersecting_stop = set(stop_counts1.keys()) & set(stop_counts2.keys())\n",
    "    \n",
    "    stop_similarity_score = sum(min(stop_counts1[stop], stop_counts2[stop]) for stop in intersecting_stop) / max(sum(stop_counts1.values()), sum(stop_counts2.values()))\n",
    "\n",
    "    # Combine all scores\n",
    "    total_score = (pos_similarity_score + punct_similarity_score + sent_len_similarity_score + stop_similarity_score) / 4\n",
    "\n",
    "    return total_score * 100  # Return as percentage\n",
    "\n",
    "text1 = \"I love Taylor Swift's Cruel Summer.\"\n",
    "text2 = \"Lizzo's music is different from Taylor as she is a rapper.\"\n",
    "\n",
    "similarity_score = style_similarity(text1, text2)\n",
    "\n",
    "print(f\"The style similarity score is {similarity_score}%\")\n"
   ]
  },
  {
   "cell_type": "code",
   "execution_count": null,
   "metadata": {},
   "outputs": [],
   "source": []
  }
 ],
 "metadata": {
  "kernelspec": {
   "display_name": "Python 3",
   "language": "python",
   "name": "python3"
  },
  "language_info": {
   "codemirror_mode": {
    "name": "ipython",
    "version": 3
   },
   "file_extension": ".py",
   "mimetype": "text/x-python",
   "name": "python",
   "nbconvert_exporter": "python",
   "pygments_lexer": "ipython3",
   "version": "3.11.0"
  },
  "orig_nbformat": 4
 },
 "nbformat": 4,
 "nbformat_minor": 2
}
