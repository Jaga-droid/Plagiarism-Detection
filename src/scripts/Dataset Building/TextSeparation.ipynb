{
 "cells": [
  {
   "cell_type": "code",
   "execution_count": 1,
   "metadata": {},
   "outputs": [],
   "source": [
    "import pandas as pd"
   ]
  },
  {
   "cell_type": "code",
   "execution_count": 2,
   "metadata": {},
   "outputs": [],
   "source": [
    "df=pd.read_csv('../../../data/raw/BBCNews.csv', encoding='ISO-8859-1')\n",
    "df.drop('type',axis=1,inplace=True)"
   ]
  },
  {
   "cell_type": "code",
   "execution_count": 3,
   "metadata": {},
   "outputs": [],
   "source": [
    "def split_into_paragraphs(article_text):\n",
    "    paragraphs = [p.strip() for p in article_text.split('\\n') if p.strip()]\n",
    "    paragraphs=paragraphs[1:]\n",
    "    return [paragraphs[i]+' '+paragraphs[i+1]  if (i+1)< len(paragraphs) else paragraphs[i] for i in range(0,len(paragraphs),2)]"
   ]
  },
  {
   "cell_type": "code",
   "execution_count": 4,
   "metadata": {},
   "outputs": [],
   "source": [
    "texts=pd.DataFrame({\"Text\":[paragraph for i in df['news'].values for paragraph in split_into_paragraphs(i)]})"
   ]
  },
  {
   "cell_type": "code",
   "execution_count": 5,
   "metadata": {},
   "outputs": [],
   "source": [
    "low=texts.head(3200).reset_index(drop=True)\n",
    "med=texts.tail(2716).reset_index(drop=True)\n",
    "high=texts.tail(2716).reset_index(drop=True)"
   ]
  },
  {
   "cell_type": "code",
   "execution_count": 6,
   "metadata": {},
   "outputs": [],
   "source": [
    "low.to_csv('../../../data/processed/TextLow.csv')\n",
    "med.to_csv('../../../data/processed/TextMedium.csv')\n",
    "high.to_csv('../../../data/processed/TextHigh.csv')"
   ]
  }
 ],
 "metadata": {
  "kernelspec": {
   "display_name": "Python 3",
   "language": "python",
   "name": "python3"
  },
  "language_info": {
   "codemirror_mode": {
    "name": "ipython",
    "version": 3
   },
   "file_extension": ".py",
   "mimetype": "text/x-python",
   "name": "python",
   "nbconvert_exporter": "python",
   "pygments_lexer": "ipython3",
   "version": "3.11.0"
  }
 },
 "nbformat": 4,
 "nbformat_minor": 2
}
