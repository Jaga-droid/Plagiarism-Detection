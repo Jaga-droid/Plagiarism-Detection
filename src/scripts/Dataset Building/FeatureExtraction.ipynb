{
 "cells": [
  {
   "cell_type": "code",
   "execution_count": 1,
   "metadata": {},
   "outputs": [
    {
     "name": "stderr",
     "output_type": "stream",
     "text": [
      "[nltk_data] Downloading package punkt to\n",
      "[nltk_data]     C:\\Users\\Jagatheesh\\AppData\\Roaming\\nltk_data...\n",
      "[nltk_data]   Package punkt is already up-to-date!\n",
      "[nltk_data] Downloading package averaged_perceptron_tagger to\n",
      "[nltk_data]     C:\\Users\\Jagatheesh\\AppData\\Roaming\\nltk_data...\n",
      "[nltk_data]   Package averaged_perceptron_tagger is already up-to-\n",
      "[nltk_data]       date!\n",
      "[nltk_data] Downloading package punkt to\n",
      "[nltk_data]     C:\\Users\\Jagatheesh\\AppData\\Roaming\\nltk_data...\n",
      "[nltk_data]   Package punkt is already up-to-date!\n"
     ]
    }
   ],
   "source": [
    "import sys\n",
    "import pandas as pd\n",
    "import warnings\n",
    "warnings.filterwarnings(\"ignore\")\n",
    "sys.path.append('../Hyperbole_in_Text')\n",
    "sys.path.append('../Generic_Text_Similarity')\n",
    "sys.path.append('../Capture_Author_Style')\n",
    "sys.path.append('../ReadabilityFormula')\n",
    "import hyperbole\n",
    "import textReadability\n",
    "import genericTextSimilarity\n",
    "import MLM"
   ]
  },
  {
   "cell_type": "markdown",
   "metadata": {},
   "source": [
    "### 1. Data Ingestion"
   ]
  },
  {
   "cell_type": "code",
   "execution_count": 2,
   "metadata": {},
   "outputs": [],
   "source": [
    "import pandas as pd\n",
    "low=pd.read_csv('../../../data/processed/TextLow.csv',index_col=0)\n",
    "med_og,med_ai=pd.read_csv('../../../data/processed/TextMedium.csv',index_col=0),pd.read_csv('../../../data/processed/TextMediumAIgenerated.csv',index_col=0)\n",
    "high_og,high_ai=pd.read_csv('../../../data/processed/TextHigh.csv',index_col=0),pd.read_csv('../../../data/processed/TextHighAIgenerated.csv',index_col=0)"
   ]
  },
  {
   "cell_type": "markdown",
   "metadata": {},
   "source": [
    "### 2. Feature Extraction"
   ]
  },
  {
   "cell_type": "markdown",
   "metadata": {},
   "source": [
    "#### (i) Class : Low"
   ]
  },
  {
   "cell_type": "code",
   "execution_count": 3,
   "metadata": {},
   "outputs": [],
   "source": [
    "hyp_list_low=[]\n",
    "read_list_low=[]\n",
    "gen_list_low=[]\n",
    "mlm_list_low=[]\n",
    "for i in range(len(low)):\n",
    "    hyp_list_low.append(hyperbole.detect_hyperbole(low.iloc[i,0]))\n",
    "    read_list_low.append(textReadability.Reading_Grade_Level(low.iloc[i,0]))\n",
    "    gen_list_low.append(0)\n",
    "    mlm_list_low.append(0)"
   ]
  },
  {
   "cell_type": "markdown",
   "metadata": {},
   "source": [
    "#### (ii) Class : Medium"
   ]
  },
  {
   "cell_type": "code",
   "execution_count": 4,
   "metadata": {},
   "outputs": [],
   "source": [
    "hyp_list_med=[]\n",
    "read_list_med=[]\n",
    "gen_list_med=[]\n",
    "mlm_list_med=[]\n",
    "for i in range(len(med_og)):\n",
    "    hyp_list_med.append(hyperbole.detect_hyperbole(med_og.iloc[i,0]))\n",
    "    read_list_med.append(textReadability.Reading_Grade_Level(med_og.iloc[i,0]))\n",
    "    gen_list_med.append(genericTextSimilarity.style_similarity(med_og.iloc[i,0],med_ai.iloc[i,0]))\n",
    "    mlm_list_med.append(MLM.styleLM(med_og.iloc[i,0],med_ai.iloc[i,0]))"
   ]
  },
  {
   "cell_type": "markdown",
   "metadata": {},
   "source": [
    "#### (iii) Class : High"
   ]
  },
  {
   "cell_type": "code",
   "execution_count": null,
   "metadata": {},
   "outputs": [],
   "source": [
    "hyp_list_high=[]\n",
    "read_list_high=[]\n",
    "gen_list_high=[]\n",
    "mlm_list_high=[]\n",
    "for i in range(len(high_og)):\n",
    "    hyp_list_high.append(hyperbole.detect_hyperbole(high_og.iloc[i,0]))\n",
    "    read_list_high.append(textReadability.Reading_Grade_Level(high_og.iloc[i,0]))\n",
    "    gen_list_high.append(genericTextSimilarity.style_similarity(high_og.iloc[i,0],high_ai.iloc[i,0]))\n",
    "    mlm_list_high.append(MLM.styleLM(high_og.iloc[i,0],high_ai.iloc[i,0]))"
   ]
  },
  {
   "cell_type": "markdown",
   "metadata": {},
   "source": [
    "### 3. Prepare files to build model"
   ]
  },
  {
   "cell_type": "code",
   "execution_count": null,
   "metadata": {},
   "outputs": [],
   "source": [
    "low_df=pd.DataFrame({'Text': list(low['Text'].values),\n",
    "                     'Hyperbole':hyp_list_low,\n",
    "                     'Text_similarity':gen_list_low,\n",
    "                     'Readability':read_list_low,\n",
    "                     'Style_Consistency':mlm_list_low})\n",
    "med_df=pd.DataFrame({'Text': list(med_ai['Text'].values),\n",
    "                     'Hyperbole':hyp_list_med,\n",
    "                     'Text_similarity':gen_list_med,\n",
    "                     'Readability':read_list_med,\n",
    "                     'Style_Consistency':mlm_list_med})\n",
    "high_df=pd.DataFrame({'Text': list(high_ai['Text'].values),\n",
    "                     'Hyperbole':hyp_list_high,\n",
    "                     'Text_similarity':gen_list_high,\n",
    "                     'Readability':read_list_high,\n",
    "                     'Style_Consistency':mlm_list_high})"
   ]
  },
  {
   "cell_type": "code",
   "execution_count": null,
   "metadata": {},
   "outputs": [],
   "source": [
    "low_df.to_csv('../../../data/processed/to_ML_models/LowRecords.csv')\n",
    "med_df.to_csv('../../../data/processed/to_ML_models/MediumRecords.csv')\n",
    "high_df.to_csv('../../../data/processed/to_ML_models/HighRecords.csv')"
   ]
  }
 ],
 "metadata": {
  "kernelspec": {
   "display_name": "Python 3",
   "language": "python",
   "name": "python3"
  },
  "language_info": {
   "codemirror_mode": {
    "name": "ipython",
    "version": 3
   },
   "file_extension": ".py",
   "mimetype": "text/x-python",
   "name": "python",
   "nbconvert_exporter": "python",
   "pygments_lexer": "ipython3",
   "version": "3.11.0"
  }
 },
 "nbformat": 4,
 "nbformat_minor": 2
}
