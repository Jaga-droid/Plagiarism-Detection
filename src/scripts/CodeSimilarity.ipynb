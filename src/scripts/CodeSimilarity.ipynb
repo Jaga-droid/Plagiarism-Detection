{
 "cells": [
  {
   "cell_type": "code",
   "execution_count": 1,
   "metadata": {},
   "outputs": [
    {
     "name": "stdout",
     "output_type": "stream",
     "text": [
      "Similarity: 1.0\n"
     ]
    }
   ],
   "source": [
    "import ast\n",
    "\n",
    "def get_node_types(tree):\n",
    "    return [type(node) for node in ast.walk(tree)]\n",
    "\n",
    "def compare_asts(code1, code2):\n",
    "    tree1 = ast.parse(code1)\n",
    "    tree2 = ast.parse(code2)\n",
    "\n",
    "    nodes1 = get_node_types(tree1)\n",
    "    nodes2 = get_node_types(tree2)\n",
    "\n",
    "    # Calculate similarity as the ratio of common nodes to total nodes\n",
    "    common_nodes = len(set(nodes1) & set(nodes2))\n",
    "    total_nodes = len(set(nodes1) | set(nodes2))\n",
    "\n",
    "    similarity = common_nodes / total_nodes\n",
    "\n",
    "    return similarity\n",
    "\n",
    "# Test with some Python code\n",
    "code1 = \"\"\"\n",
    "def factorial(n):\n",
    "   if n < 1:   # base case\n",
    "       return 1\n",
    "   else:\n",
    "       return n * factorial(n - 1)\n",
    "\"\"\"\n",
    "\n",
    "code2 = \"\"\"\n",
    "def calculate_factorial(number):\n",
    "   if number < 1:   \n",
    "       return 1\n",
    "   else:\n",
    "       return number * calculate_factorial(number - 1)\n",
    "\"\"\"\n",
    "\n",
    "similarity = compare_asts(code1, code2)\n",
    "print(f\"Similarity: {similarity}\")\n"
   ]
  },
  {
   "cell_type": "code",
   "execution_count": null,
   "metadata": {},
   "outputs": [],
   "source": []
  }
 ],
 "metadata": {
  "kernelspec": {
   "display_name": "Python 3",
   "language": "python",
   "name": "python3"
  },
  "language_info": {
   "codemirror_mode": {
    "name": "ipython",
    "version": 3
   },
   "file_extension": ".py",
   "mimetype": "text/x-python",
   "name": "python",
   "nbconvert_exporter": "python",
   "pygments_lexer": "ipython3",
   "version": "3.11.0"
  },
  "orig_nbformat": 4
 },
 "nbformat": 4,
 "nbformat_minor": 2
}
