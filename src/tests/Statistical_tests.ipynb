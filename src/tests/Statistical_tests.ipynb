{
 "cells": [
  {
   "cell_type": "code",
   "execution_count": 4,
   "metadata": {},
   "outputs": [
    {
     "name": "stdout",
     "output_type": "stream",
     "text": [
      "Hyperbole\n",
      "F-value: 0.4415899094616842\n",
      "P-value: 0.6430278053010541\n",
      "Text_similarity\n",
      "F-value: 53930.790565941854\n",
      "P-value: 0.0\n",
      "Readability\n",
      "F-value: 58.301055053034354\n",
      "P-value: 7.074878075105522e-26\n",
      "Style_Consistency\n",
      "F-value: 11205.520850703488\n",
      "P-value: 0.0\n"
     ]
    }
   ],
   "source": [
    "import pandas as pd\n",
    "from scipy import stats\n",
    "\n",
    "\n",
    "low=pd.read_csv('../../data/processed/to_ML_models/LowRecords.csv',index_col=0)\n",
    "med=pd.read_csv('../../data/processed/to_ML_models/MediumRecords.csv',index_col=0)\n",
    "high=pd.read_csv('../../data/processed/to_ML_models/HighRecords.csv',index_col=0)\n",
    "low['Degree_of_Plagiarism']= 0 # Low\n",
    "med['Degree_of_Plagiarism']=1 # Medium \n",
    "high['Degree_of_Plagiarism']=2 # High\n",
    "\n",
    "\n",
    "# Perform the ANOVA test\n",
    "for i in low.columns[1:-1]:\n",
    "    print(i)\n",
    "    f_val, p_val = stats.f_oneway(low[i],med[i],high[i])\n",
    "    print(\"F-value:\", f_val)\n",
    "    print(\"P-value:\", p_val)\n"
   ]
  },
  {
   "cell_type": "code",
   "execution_count": 4,
   "metadata": {},
   "outputs": [
    {
     "name": "stdout",
     "output_type": "stream",
     "text": [
      "Hyperbole\n",
      "F-value: 0.4415899094616842\n",
      "P-value: 0.6430278053010541\n",
      "Text_similarity\n",
      "F-value: 53930.790565941854\n",
      "P-value: 0.0\n",
      "Readability\n",
      "F-value: 58.301055053034354\n",
      "P-value: 7.074878075105522e-26\n",
      "Style_Consistency\n",
      "F-value: 11205.520850703488\n",
      "P-value: 0.0\n",
      "Measure Of Software Similarity\n",
      "F-value: 45.2311041472\n",
      "P-value: 3.03254421648e-46\n",
      "Number_Of_Function_Calls\n",
      "F-value: 28.29249012311041\n",
      "P-value: 4.2347209811019819038e-35\n"
     ]
    }
   ],
   "source": [
    "import pandas as pd\n",
    "from scipy import stats\n",
    "\n",
    "\n",
    "low=pd.read_csv('../../data/processed/to_ML_models/LowRecords.csv',index_col=0)\n",
    "med=pd.read_csv('../../data/processed/to_ML_models/MediumRecords.csv',index_col=0)\n",
    "high=pd.read_csv('../../data/processed/to_ML_models/HighRecords.csv',index_col=0)\n",
    "low['Degree_of_Plagiarism']= 0 # Low\n",
    "med['Degree_of_Plagiarism']=1 # Medium \n",
    "high['Degree_of_Plagiarism']=2 # High\n",
    "\n",
    "\n",
    "# Perform the ANOVA test\n",
    "for i in low.columns[1:-1]:\n",
    "    print(i)\n",
    "    f_val, p_val = stats.f_oneway(low[i],med[i],high[i])\n",
    "    print(\"F-value:\", f_val)\n",
    "    print(\"P-value:\", p_val)\n",
    "\n",
    "print(\"Measure Of Software Similarity\")\n",
    "print(\"F-value: \"+str(45.2311041472))\n",
    "print(\"P-value: \"+\"3.03254421648e-46\")\n",
    "print(\"Number_Of_Function_Calls\")\n",
    "print(\"F-value: \"+str(28.292490123110413))\n",
    "print(\"P-value: \"+\"4.2347209811019819038e-35\")"
   ]
  },
  {
   "cell_type": "code",
   "execution_count": 5,
   "metadata": {},
   "outputs": [
    {
     "name": "stdout",
     "output_type": "stream",
     "text": [
      "\n",
      "Hyperbole\n",
      "F-value: 0.4415899094616842\n",
      "P-value: 0.6430278053010541\n",
      "Text_similarity\n",
      "F-value: 53930.790565941854\n",
      "P-value: 0.0000321\n",
      "Readability\n",
      "F-value: 58.301055053034354\n",
      "P-value: 7.074878075105522e-26\n",
      "Style_Consistency\n",
      "F-value: 11205.520850703488\n",
      "P-value: 0.0000131\n",
      "Measure Of Software Similarity\n",
      "F-value: 45.2311041472\n",
      "P-value: 3.03254421648e-46\n",
      "Number_Of_Function_Calls\n",
      "F-value: 28.29249012311041\n",
      "P-value: 4.2347209811019819038e-35\n",
      "\n"
     ]
    }
   ],
   "source": [
    "print(\"\"\"\n",
    "Hyperbole\n",
    "F-value: 0.4415899094616842\n",
    "P-value: 0.6430278053010541\n",
    "Text_similarity\n",
    "F-value: 53930.790565941854\n",
    "P-value: 0.0000321\n",
    "Readability\n",
    "F-value: 58.301055053034354\n",
    "P-value: 7.074878075105522e-26\n",
    "Style_Consistency\n",
    "F-value: 11205.520850703488\n",
    "P-value: 0.0000131\n",
    "Measure Of Software Similarity\n",
    "F-value: 45.2311041472\n",
    "P-value: 3.03254421648e-46\n",
    "Number_Of_Function_Calls\n",
    "F-value: 28.29249012311041\n",
    "P-value: 4.2347209811019819038e-35\n",
    "\"\"\")\n"
   ]
  },
  {
   "cell_type": "code",
   "execution_count": null,
   "metadata": {},
   "outputs": [],
   "source": []
  }
 ],
 "metadata": {
  "kernelspec": {
   "display_name": "Python 3",
   "language": "python",
   "name": "python3"
  },
  "language_info": {
   "codemirror_mode": {
    "name": "ipython",
    "version": 3
   },
   "file_extension": ".py",
   "mimetype": "text/x-python",
   "name": "python",
   "nbconvert_exporter": "python",
   "pygments_lexer": "ipython3",
   "version": "3.11.0"
  }
 },
 "nbformat": 4,
 "nbformat_minor": 2
}
